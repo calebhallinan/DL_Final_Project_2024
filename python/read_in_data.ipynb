{
 "cells": [
  {
   "cell_type": "markdown",
   "metadata": {},
   "source": [
    "This is a script to read in the ACDC dataset. Download the dataset from this url:\n",
    "\n",
    "https://humanheart-project.creatis.insa-lyon.fr/database/#collection/637218c173e9f0047faa00fb\n",
    "\n",
    "Much of this code was imported from https://github.com/ziyangwang007/Mamba-UNet/tree/main\n"
   ]
  },
  {
   "cell_type": "code",
   "execution_count": null,
   "metadata": {},
   "outputs": [],
   "source": [
    "# Edit these variables to match your setup\n",
    "file_location = \"/home/xdluo/data/ACDC/"
   ]
  },
  {
   "cell_type": "code",
   "execution_count": null,
   "metadata": {},
   "outputs": [],
   "source": [
    "# ACDC data preprocessing\n",
    "import glob\n",
    "import os\n",
    "\n",
    "import h5py\n",
    "import numpy as np\n",
    "import SimpleITK as sitk\n",
    "\n",
    "slice_num = 0\n",
    "mask_path = sorted(glob.glob(file_location +\" /*.nii.gz\"))\n",
    "for case in mask_path:\n",
    "    img_itk = sitk.ReadImage(case)\n",
    "    origin = img_itk.GetOrigin()\n",
    "    spacing = img_itk.GetSpacing()\n",
    "    direction = img_itk.GetDirection()\n",
    "    image = sitk.GetArrayFromImage(img_itk)\n",
    "    msk_path = case.replace(\"image\", \"label\").replace(\".nii.gz\", \"_gt.nii.gz\")\n",
    "    if os.path.exists(msk_path):\n",
    "        print(msk_path)\n",
    "        msk_itk = sitk.ReadImage(msk_path)\n",
    "        mask = sitk.GetArrayFromImage(msk_itk)\n",
    "        image = (image - image.min()) / (image.max() - image.min())\n",
    "        print(image.shape)\n",
    "        image = image.astype(np.float32)\n",
    "        item = case.split(\"/\")[-1].split(\".\")[0]\n",
    "        if image.shape != mask.shape:\n",
    "            print(\"Error\")\n",
    "        print(item)\n",
    "        for slice_ind in range(image.shape[0]):\n",
    "            f = h5py.File(\n",
    "                '/home/xdluo/data/ACDC/data/{}_slice_{}.h5'.format(item, slice_ind), 'w')\n",
    "            f.create_dataset(\n",
    "                'image', data=image[slice_ind], compression=\"gzip\")\n",
    "            f.create_dataset('label', data=mask[slice_ind], compression=\"gzip\")\n",
    "            f.close()\n",
    "            slice_num += 1\n",
    "print(\"Converted all ACDC volumes to 2D slices\")\n",
    "print(\"Total {} slices\".format(slice_num))"
   ]
  }
 ],
 "metadata": {
  "language_info": {
   "name": "python"
  }
 },
 "nbformat": 4,
 "nbformat_minor": 2
}
