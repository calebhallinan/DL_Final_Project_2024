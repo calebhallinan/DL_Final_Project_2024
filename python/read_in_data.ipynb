{
 "cells": [
  {
   "cell_type": "markdown",
   "metadata": {},
   "source": [
    "## DL Project - Reading in Data"
   ]
  },
  {
   "cell_type": "markdown",
   "metadata": {},
   "source": [
    "This is a script to read in the ACDC dataset. Download the dataset from this url:\n",
    "\n",
    "https://humanheart-project.creatis.insa-lyon.fr/database/#collection/637218c173e9f0047faa00fb\n",
    "\n",
    "Then edit the paths below to match where the training and testing data is (these folders should be located in the downloaded data). Currently extracting just 1 of the 7-9 images for each subject (note: the index is 2 bc index 0 didn't always have a gt with it), so this is something we can change if we need.\n",
    "\n",
    "Should see 200 training images and 100 testing images.\n"
   ]
  },
  {
   "cell_type": "code",
   "execution_count": 35,
   "metadata": {},
   "outputs": [],
   "source": [
    "# Edit these variables to match your setup\n",
    "dataset_path_training = '/Users/calebhallinan/Desktop/jhu/classes/deep_learning/DL_Final_Project_2024/data/ACDC/training'\n",
    "dataset_path_testing = '/Users/calebhallinan/Desktop/jhu/classes/deep_learning/DL_Final_Project_2024/data/ACDC/testing'"
   ]
  },
  {
   "cell_type": "code",
   "execution_count": 36,
   "metadata": {},
   "outputs": [],
   "source": [
    "### Import packages \n",
    "\n",
    "import os\n",
    "import nibabel as nib\n",
    "import numpy as np\n",
    "import re\n",
    "from skimage.transform import resize\n",
    "\n",
    "\n",
    "### Functions to load in the data ###\n",
    "\n",
    "# Regular expression to extract the patient number and frame number from filenames\n",
    "filename_pattern = re.compile(r'patient(\\d+)_frame(\\d+)(_gt)?\\.nii\\.gz')\n",
    "\n",
    "# Function to get sorting key from the filename\n",
    "def get_sort_key(filepath):\n",
    "    match = filename_pattern.search(os.path.basename(filepath))\n",
    "    if match:\n",
    "        patient_num = int(match.group(1))\n",
    "        frame_num = int(match.group(2))\n",
    "        return (patient_num, frame_num)\n",
    "    else:\n",
    "        raise ValueError(f'Filename does not match expected pattern: {filepath}')\n",
    "    "
   ]
  },
  {
   "cell_type": "code",
   "execution_count": 37,
   "metadata": {},
   "outputs": [
    {
     "name": "stdout",
     "output_type": "stream",
     "text": [
      "Training Images array shape: (200, 224, 224)\n",
      "Training Ground truths array shape: (200, 224, 224)\n"
     ]
    }
   ],
   "source": [
    "### Read in training data ###\n",
    "\n",
    "# Lists to hold the file paths for images and ground truths\n",
    "image_file_paths_train = []\n",
    "ground_truth_file_paths_train = []\n",
    "\n",
    "# Walk through the directory and collect all relevant file paths\n",
    "for root, dirs, files in os.walk(dataset_path_training):\n",
    "    for file in files:\n",
    "        if 'frame' in file:\n",
    "            full_path = os.path.join(root, file)\n",
    "            if '_gt' in file:\n",
    "                ground_truth_file_paths_train.append(full_path)\n",
    "            else:\n",
    "                image_file_paths_train.append(full_path)\n",
    "\n",
    "# Sort the file paths to ensure alignment\n",
    "image_file_paths_train.sort(key=get_sort_key)\n",
    "ground_truth_file_paths_train.sort(key=get_sort_key)\n",
    "\n",
    "# Check to make sure each image has a corresponding ground truth\n",
    "assert len(image_file_paths_train) == len(ground_truth_file_paths_train)\n",
    "for img_path, gt_path in zip(image_file_paths_train, ground_truth_file_paths_train):\n",
    "    assert get_sort_key(img_path) == get_sort_key(gt_path), \"Mismatch between image and ground truth files\"\n",
    "\n",
    "# Load the images and ground truths into numpy arrays\n",
    "# using 2 index bc not all 0 index had a gt\n",
    "images_train = [resize(nib.load(path).get_fdata()[:,:,2], (224,224)) for path in image_file_paths_train]\n",
    "ground_truths_train = [resize(nib.load(path).get_fdata()[:,:,2], (224,224)) for path in ground_truth_file_paths_train]\n",
    "\n",
    "# Stack the arrays into 4D numpy arrays\n",
    "images_array_train = np.stack(images_train)\n",
    "ground_truths_array_train = np.stack(ground_truths_train)\n",
    "\n",
    "print(f'Training Images array shape: {images_array_train.shape}')\n",
    "print(f'Training Ground truths array shape: {ground_truths_array_train.shape}')"
   ]
  },
  {
   "cell_type": "code",
   "execution_count": 38,
   "metadata": {},
   "outputs": [
    {
     "name": "stdout",
     "output_type": "stream",
     "text": [
      "Test Images array shape: (100, 224, 224)\n",
      "Test Ground truths array shape: (100, 224, 224)\n"
     ]
    }
   ],
   "source": [
    "### Read in testing data ###\n",
    "\n",
    "# Lists to hold the file paths for images and ground truths\n",
    "image_file_paths_test = []\n",
    "ground_truth_file_paths_test = []\n",
    "\n",
    "# Walk through the directory and collect all relevant file paths\n",
    "for root, dirs, files in os.walk(dataset_path_testing):\n",
    "    for file in files:\n",
    "        if 'frame' in file:\n",
    "            full_path = os.path.join(root, file)\n",
    "            if '_gt' in file:\n",
    "                ground_truth_file_paths_test.append(full_path)\n",
    "            else:\n",
    "                image_file_paths_test.append(full_path)\n",
    "\n",
    "# Sort the file paths to ensure alignment\n",
    "image_file_paths_test.sort(key=get_sort_key)\n",
    "ground_truth_file_paths_test.sort(key=get_sort_key)\n",
    "\n",
    "# Check to make sure each image has a corresponding ground truth\n",
    "assert len(image_file_paths_test) == len(ground_truth_file_paths_test)\n",
    "for img_path, gt_path in zip(image_file_paths_test, ground_truth_file_paths_test):\n",
    "    assert get_sort_key(img_path) == get_sort_key(gt_path), \"Mismatch between image and ground truth files\"\n",
    "\n",
    "# Load the images and ground truths into numpy arrays\n",
    "# using 2 index bc not all 0 index had a gt\n",
    "images_test = [resize(nib.load(path).get_fdata()[:,:,2], (224,224)) for path in image_file_paths_test]\n",
    "ground_truths_test = [resize(nib.load(path).get_fdata()[:,:,2], (224,224)) for path in ground_truth_file_paths_test]\n",
    "\n",
    "# Stack the arrays into 4D numpy arrays\n",
    "images_array_test = np.stack(images_test)\n",
    "ground_truths_array_test = np.stack(ground_truths_test)\n",
    "\n",
    "print(f'Test Images array shape: {images_array_test.shape}')\n",
    "print(f'Test Ground truths array shape: {ground_truths_array_test.shape}')"
   ]
  },
  {
   "cell_type": "code",
   "execution_count": 1,
   "metadata": {},
   "outputs": [
    {
     "ename": "NameError",
     "evalue": "name 'images_array_test' is not defined",
     "output_type": "error",
     "traceback": [
      "\u001b[0;31m---------------------------------------------------------------------------\u001b[0m",
      "\u001b[0;31mNameError\u001b[0m                                 Traceback (most recent call last)",
      "Cell \u001b[0;32mIn[1], line 1\u001b[0m\n\u001b[0;32m----> 1\u001b[0m \u001b[43mimages_array_test\u001b[49m\n",
      "\u001b[0;31mNameError\u001b[0m: name 'images_array_test' is not defined"
     ]
    }
   ],
   "source": [
    "images_array_test"
   ]
  }
 ],
 "metadata": {
  "kernelspec": {
   "display_name": "DL",
   "language": "python",
   "name": "python3"
  },
  "language_info": {
   "codemirror_mode": {
    "name": "ipython",
    "version": 3
   },
   "file_extension": ".py",
   "mimetype": "text/x-python",
   "name": "python",
   "nbconvert_exporter": "python",
   "pygments_lexer": "ipython3",
   "version": "3.9.18"
  }
 },
 "nbformat": 4,
 "nbformat_minor": 2
}
